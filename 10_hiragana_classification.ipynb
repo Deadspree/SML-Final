{
  "nbformat": 4,
  "nbformat_minor": 0,
  "metadata": {
    "colab": {
      "provenance": [],
      "gpuType": "T4",
      "toc_visible": true,
      "authorship_tag": "ABX9TyMFSI+0vKE6dEmVgfMtuiPl",
      "include_colab_link": true
    },
    "kernelspec": {
      "name": "python3",
      "display_name": "Python 3"
    },
    "language_info": {
      "name": "python"
    },
    "accelerator": "GPU"
  },
  "cells": [
    {
      "cell_type": "markdown",
      "metadata": {
        "id": "view-in-github",
        "colab_type": "text"
      },
      "source": [
        "<a href=\"https://colab.research.google.com/github/Deadspree/SML-Final/blob/main/10_hiragana_classification.ipynb\" target=\"_parent\"><img src=\"https://colab.research.google.com/assets/colab-badge.svg\" alt=\"Open In Colab\"/></a>"
      ]
    },
    {
      "cell_type": "code",
      "execution_count": null,
      "metadata": {
        "colab": {
          "base_uri": "https://localhost:8080/"
        },
        "id": "6WDqqwJO6fVa",
        "outputId": "55ce6a16-ce0a-499e-9185-03936832feed"
      },
      "outputs": [
        {
          "output_type": "stream",
          "name": "stdout",
          "text": [
            "Mounted at /content/drive\n"
          ]
        }
      ],
      "source": [
        "import numpy as np\n",
        "\n",
        "from google.colab import drive\n",
        "import os\n",
        "\n",
        "drive.mount('/content/drive')\n"
      ]
    },
    {
      "cell_type": "markdown",
      "source": [
        "###Read the data"
      ],
      "metadata": {
        "id": "8l2ibRyX8qbk"
      }
    },
    {
      "cell_type": "code",
      "source": [
        "x_train = np.load('/content/drive/MyDrive/Final Project_SML/10_classes_hiragna_data/kmnist-train-imgs.npz')['arr_0']\n",
        "y_train = np.load('/content/drive/MyDrive/Final Project_SML/10_classes_hiragna_data/kmnist-train-labels.npz')['arr_0']\n",
        "x_test = np.load('/content/drive/MyDrive/Final Project_SML/10_classes_hiragna_data/kmnist-test-imgs.npz')['arr_0']\n",
        "y_test = np.load('/content/drive/MyDrive/Final Project_SML/10_classes_hiragna_data/kmnist-test-labels.npz')['arr_0']"
      ],
      "metadata": {
        "id": "E9JAAEwn738z"
      },
      "execution_count": 8,
      "outputs": []
    },
    {
      "cell_type": "code",
      "source": [
        "import numpy as np\n",
        "import matplotlib.pyplot as plt\n",
        "\n",
        "img_array = x_test[1000]\n",
        "from matplotlib import pyplot as plt\n",
        "\n",
        "plt.imshow(img_array.reshape(28,28,1), cmap='gray')\n",
        "plt.show()"
      ],
      "metadata": {
        "colab": {
          "base_uri": "https://localhost:8080/",
          "height": 430
        },
        "id": "OtUarbf9UrVt",
        "outputId": "3f02788e-fe72-406e-f55b-dba4b2c43f4e"
      },
      "execution_count": null,
      "outputs": [
        {
          "output_type": "display_data",
          "data": {
            "text/plain": [
              "<Figure size 640x480 with 1 Axes>"
            ],
            "image/png": "[encoded data removed]"
          },
          "metadata": {}
        }
      ]
    },
    {
      "cell_type": "markdown",
      "source": [
        "###Data Exploration"
      ],
      "metadata": {
        "id": "Vh3VKpf18v3M"
      }
    },
    {
      "cell_type": "code",
      "source": [
        "print(\"Kuzushi img train: \",x_train.shape )\n",
        "print(\"Kuzushi label train: \", y_train.shape)\n",
        "print(\"kuzushi img test: \", x_test.shape)\n",
        "print(\"Kuzushi label test: \", y_test.shape)"
      ],
      "metadata": {
        "colab": {
          "base_uri": "https://localhost:8080/"
        },
        "id": "VTAeZR-Z8XVj",
        "outputId": "7644e52c-d276-49f6-f5b0-038dacfb9609"
      },
      "execution_count": null,
      "outputs": [
        {
          "output_type": "stream",
          "name": "stdout",
          "text": [
            "Kuzushi img train:  (60000, 28, 28)\n",
            "Kuzushi label train:  (60000,)\n",
            "kuzushi img test:  (10000, 28, 28)\n",
            "Kuzushi label test:  (10000,)\n"
          ]
        }
      ]
    },
    {
      "cell_type": "markdown",
      "source": [
        "###Data Processing"
      ],
      "metadata": {
        "id": "cBzdaPGt_Ys8"
      }
    },
    {
      "cell_type": "code",
      "source": [],
      "metadata": {
        "colab": {
          "base_uri": "https://localhost:8080/"
        },
        "id": "42Ag_dtr-65i",
        "outputId": "8aa17f19-c83b-44cd-8916-ccd7fd9f845b"
      },
      "execution_count": null,
      "outputs": [
        {
          "output_type": "execute_result",
          "data": {
            "text/plain": [
              "(60000, 28, 28, 1)"
            ]
          },
          "metadata": {},
          "execution_count": 14
        }
      ]
    },
    {
      "cell_type": "code",
      "source": [
        "x_train = x_train.reshape(60000,28,28,1)/255.0\n",
        "x_test = x_test.reshape(10000,28,28,1)/255.0"
      ],
      "metadata": {
        "id": "mhimPZ1jAMc_"
      },
      "execution_count": 9,
      "outputs": []
    },
    {
      "cell_type": "code",
      "source": [
        "from sklearn.model_selection import train_test_split\n",
        "X_train, X_val, y_train, y_val = train_test_split(x_train, y_train, test_size=0.1, random_state=2018)"
      ],
      "metadata": {
        "id": "2wi8osbfCd3y"
      },
      "execution_count": null,
      "outputs": []
    },
    {
      "cell_type": "code",
      "source": [
        "X_train.shape"
      ],
      "metadata": {
        "colab": {
          "base_uri": "https://localhost:8080/"
        },
        "id": "z31DQWhKDIVl",
        "outputId": "35edb4e9-8b0c-49ae-aeae-1e3d611df8f0"
      },
      "execution_count": null,
      "outputs": [
        {
          "output_type": "execute_result",
          "data": {
            "text/plain": [
              "(54000, 28, 28, 1)"
            ]
          },
          "metadata": {},
          "execution_count": 18
        }
      ]
    },
    {
      "cell_type": "markdown",
      "source": [
        "###Model"
      ],
      "metadata": {
        "id": "NpBJhLmx94H2"
      }
    },
    {
      "cell_type": "code",
      "source": [
        "import tensorflow as tf\n",
        "from tensorflow.keras import layers, Sequential\n",
        "\n",
        "# Model\n",
        "model = Sequential()\n",
        "# Add convolution 2D\n",
        "model.add(layers.Conv2D(32, kernel_size=(3, 3),activation='relu', padding=\"same\",\n",
        "        kernel_initializer='he_normal',input_shape=(28, 28, 1)))\n",
        "\n",
        "model.add(layers.BatchNormalization())\n",
        "\n",
        "model.add(layers.Conv2D(32,kernel_size=(3, 3), activation='relu'))\n",
        "model.add(layers.BatchNormalization())\n",
        "model.add(layers.Conv2D(32,kernel_size=5,strides=2,padding='same',activation='relu'))\n",
        "model.add(layers.MaxPooling2D((2, 2)))\n",
        "model.add(layers.BatchNormalization())\n",
        "# Add dropouts to the model\n",
        "model.add(layers.Dropout(0.4))\n",
        "model.add(layers.Conv2D(64, kernel_size=(3, 3), strides=2,padding='same', activation='relu'))\n",
        "model.add(layers.MaxPooling2D(pool_size=(2, 2)))\n",
        "model.add(layers.BatchNormalization())\n",
        "model.add(layers.Conv2D(64, kernel_size=(3, 3), strides=2,padding='same', activation='relu'))\n",
        "# Add dropouts to the model\n",
        "model.add(layers.Dropout(0.4))\n",
        "model.add(layers.Flatten())\n",
        "model.add(layers.Dense(128, activation='relu'))\n",
        "# Add dropouts to the model\n",
        "model.add(layers.Dropout(0.4))\n",
        "model.add(layers.Dense(10, activation='softmax'))"
      ],
      "metadata": {
        "id": "pB0CpKWF9MWb"
      },
      "execution_count": null,
      "outputs": []
    },
    {
      "cell_type": "code",
      "source": [
        "# Compile the model\n",
        "model.compile(loss= tf.keras.losses.SparseCategoricalCrossentropy(from_logits = True), metrics='acc', optimizer=tf.keras.optimizers.Adam(learning_rate = 0.001))"
      ],
      "metadata": {
        "id": "vExbhxU_93IO"
      },
      "execution_count": null,
      "outputs": []
    },
    {
      "cell_type": "code",
      "source": [
        "history = model.fit(X_train, y_train,\n",
        "          batch_size=128,\n",
        "          epochs=100,\n",
        "          verbose=1,\n",
        "          validation_data=(X_val, y_val))"
      ],
      "metadata": {
        "colab": {
          "base_uri": "https://localhost:8080/"
        },
        "id": "HUcF8hDw-BMX",
        "outputId": "91361d98-7e6a-42a9-d112-4d2e1d6ffa31"
      },
      "execution_count": null,
      "outputs": [
        {
          "output_type": "stream",
          "name": "stdout",
          "text": [
            "Epoch 1/100\n"
          ]
        },
        {
          "output_type": "stream",
          "name": "stderr",
          "text": [
            "/usr/local/lib/python3.10/dist-packages/keras/src/backend.py:5727: UserWarning: \"`sparse_categorical_crossentropy` received `from_logits=True`, but the `output` argument was produced by a Softmax activation and thus does not represent logits. Was this intended?\n",
            "  output, from_logits = _get_logits(\n"
          ]
        },
        {
          "output_type": "stream",
          "name": "stdout",
          "text": [
            "422/422 [==============================] - 15s 16ms/step - loss: 0.9253 - acc: 0.6965 - val_loss: 0.2887 - val_acc: 0.9037\n",
            "Epoch 2/100\n",
            "422/422 [==============================] - 7s 16ms/step - loss: 0.3727 - acc: 0.8881 - val_loss: 0.1572 - val_acc: 0.9475\n",
            "Epoch 3/100\n",
            "422/422 [==============================] - 6s 14ms/step - loss: 0.2766 - acc: 0.9182 - val_loss: 0.1230 - val_acc: 0.9613\n",
            "Epoch 4/100\n",
            "422/422 [==============================] - 6s 15ms/step - loss: 0.2271 - acc: 0.9332 - val_loss: 0.1074 - val_acc: 0.9675\n",
            "Epoch 5/100\n",
            "422/422 [==============================] - 6s 14ms/step - loss: 0.2000 - acc: 0.9411 - val_loss: 0.0958 - val_acc: 0.9673\n",
            "Epoch 6/100\n",
            "422/422 [==============================] - 6s 14ms/step - loss: 0.1781 - acc: 0.9473 - val_loss: 0.0890 - val_acc: 0.9747\n",
            "Epoch 7/100\n",
            "422/422 [==============================] - 7s 16ms/step - loss: 0.1630 - acc: 0.9524 - val_loss: 0.0864 - val_acc: 0.9742\n",
            "Epoch 8/100\n",
            "422/422 [==============================] - 6s 14ms/step - loss: 0.1529 - acc: 0.9552 - val_loss: 0.0762 - val_acc: 0.9765\n",
            "Epoch 9/100\n",
            "422/422 [==============================] - 6s 14ms/step - loss: 0.1413 - acc: 0.9583 - val_loss: 0.0776 - val_acc: 0.9757\n",
            "Epoch 10/100\n",
            "422/422 [==============================] - 6s 14ms/step - loss: 0.1324 - acc: 0.9613 - val_loss: 0.0723 - val_acc: 0.9777\n",
            "Epoch 11/100\n",
            "422/422 [==============================] - 6s 15ms/step - loss: 0.1287 - acc: 0.9620 - val_loss: 0.0680 - val_acc: 0.9797\n",
            "Epoch 12/100\n",
            "422/422 [==============================] - 7s 17ms/step - loss: 0.1224 - acc: 0.9646 - val_loss: 0.0613 - val_acc: 0.9818\n",
            "Epoch 13/100\n",
            "422/422 [==============================] - 6s 14ms/step - loss: 0.1187 - acc: 0.9654 - val_loss: 0.0723 - val_acc: 0.9785\n",
            "Epoch 14/100\n",
            "422/422 [==============================] - 6s 15ms/step - loss: 0.1120 - acc: 0.9670 - val_loss: 0.0655 - val_acc: 0.9820\n",
            "Epoch 15/100\n",
            "422/422 [==============================] - 6s 14ms/step - loss: 0.1097 - acc: 0.9682 - val_loss: 0.0640 - val_acc: 0.9810\n",
            "Epoch 16/100\n",
            "422/422 [==============================] - 6s 14ms/step - loss: 0.1049 - acc: 0.9692 - val_loss: 0.0627 - val_acc: 0.9822\n",
            "Epoch 17/100\n",
            "422/422 [==============================] - 6s 15ms/step - loss: 0.0968 - acc: 0.9710 - val_loss: 0.0707 - val_acc: 0.9775\n",
            "Epoch 18/100\n",
            "422/422 [==============================] - 6s 14ms/step - loss: 0.0983 - acc: 0.9719 - val_loss: 0.0585 - val_acc: 0.9828\n",
            "Epoch 19/100\n",
            "422/422 [==============================] - 6s 15ms/step - loss: 0.0950 - acc: 0.9721 - val_loss: 0.0585 - val_acc: 0.9822\n",
            "Epoch 20/100\n",
            "422/422 [==============================] - 6s 14ms/step - loss: 0.0948 - acc: 0.9725 - val_loss: 0.0615 - val_acc: 0.9830\n",
            "Epoch 21/100\n",
            "422/422 [==============================] - 6s 14ms/step - loss: 0.0905 - acc: 0.9730 - val_loss: 0.0627 - val_acc: 0.9808\n",
            "Epoch 22/100\n",
            "422/422 [==============================] - 6s 14ms/step - loss: 0.0910 - acc: 0.9730 - val_loss: 0.0574 - val_acc: 0.9830\n",
            "Epoch 23/100\n",
            "422/422 [==============================] - 6s 14ms/step - loss: 0.0889 - acc: 0.9732 - val_loss: 0.0559 - val_acc: 0.9830\n",
            "Epoch 24/100\n",
            "422/422 [==============================] - 6s 15ms/step - loss: 0.0830 - acc: 0.9759 - val_loss: 0.0546 - val_acc: 0.9842\n",
            "Epoch 25/100\n",
            "422/422 [==============================] - 6s 14ms/step - loss: 0.0829 - acc: 0.9751 - val_loss: 0.0550 - val_acc: 0.9840\n",
            "Epoch 26/100\n",
            "422/422 [==============================] - 6s 14ms/step - loss: 0.0770 - acc: 0.9773 - val_loss: 0.0604 - val_acc: 0.9843\n",
            "Epoch 27/100\n",
            "422/422 [==============================] - 7s 16ms/step - loss: 0.0829 - acc: 0.9761 - val_loss: 0.0555 - val_acc: 0.9838\n",
            "Epoch 28/100\n",
            "422/422 [==============================] - 6s 14ms/step - loss: 0.0771 - acc: 0.9774 - val_loss: 0.0521 - val_acc: 0.9858\n",
            "Epoch 29/100\n",
            "422/422 [==============================] - 7s 15ms/step - loss: 0.0738 - acc: 0.9772 - val_loss: 0.0559 - val_acc: 0.9857\n",
            "Epoch 30/100\n",
            "422/422 [==============================] - 6s 14ms/step - loss: 0.0763 - acc: 0.9771 - val_loss: 0.0523 - val_acc: 0.9850\n",
            "Epoch 31/100\n",
            "422/422 [==============================] - 6s 14ms/step - loss: 0.0751 - acc: 0.9777 - val_loss: 0.0530 - val_acc: 0.9853\n",
            "Epoch 32/100\n",
            "422/422 [==============================] - 6s 15ms/step - loss: 0.0724 - acc: 0.9784 - val_loss: 0.0541 - val_acc: 0.9840\n",
            "Epoch 33/100\n",
            "422/422 [==============================] - 6s 14ms/step - loss: 0.0730 - acc: 0.9787 - val_loss: 0.0531 - val_acc: 0.9840\n",
            "Epoch 34/100\n",
            "422/422 [==============================] - 6s 15ms/step - loss: 0.0703 - acc: 0.9791 - val_loss: 0.0480 - val_acc: 0.9862\n",
            "Epoch 35/100\n",
            "422/422 [==============================] - 6s 13ms/step - loss: 0.0683 - acc: 0.9793 - val_loss: 0.0530 - val_acc: 0.9847\n",
            "Epoch 36/100\n",
            "422/422 [==============================] - 6s 14ms/step - loss: 0.0682 - acc: 0.9794 - val_loss: 0.0514 - val_acc: 0.9862\n",
            "Epoch 37/100\n",
            "422/422 [==============================] - 6s 15ms/step - loss: 0.0672 - acc: 0.9798 - val_loss: 0.0525 - val_acc: 0.9847\n",
            "Epoch 38/100\n",
            "422/422 [==============================] - 6s 14ms/step - loss: 0.0677 - acc: 0.9796 - val_loss: 0.0551 - val_acc: 0.9848\n",
            "Epoch 39/100\n",
            "422/422 [==============================] - 7s 16ms/step - loss: 0.0635 - acc: 0.9806 - val_loss: 0.0517 - val_acc: 0.9862\n",
            "Epoch 40/100\n",
            "422/422 [==============================] - 6s 14ms/step - loss: 0.0655 - acc: 0.9801 - val_loss: 0.0540 - val_acc: 0.9847\n",
            "Epoch 41/100\n",
            "422/422 [==============================] - 7s 18ms/step - loss: 0.0612 - acc: 0.9813 - val_loss: 0.0508 - val_acc: 0.9848\n",
            "Epoch 42/100\n",
            "422/422 [==============================] - 7s 16ms/step - loss: 0.0626 - acc: 0.9814 - val_loss: 0.0505 - val_acc: 0.9863\n",
            "Epoch 43/100\n",
            "422/422 [==============================] - 6s 14ms/step - loss: 0.0603 - acc: 0.9818 - val_loss: 0.0476 - val_acc: 0.9863\n",
            "Epoch 44/100\n",
            "422/422 [==============================] - 7s 16ms/step - loss: 0.0619 - acc: 0.9812 - val_loss: 0.0639 - val_acc: 0.9833\n",
            "Epoch 45/100\n",
            "422/422 [==============================] - 6s 14ms/step - loss: 0.0612 - acc: 0.9821 - val_loss: 0.0446 - val_acc: 0.9858\n",
            "Epoch 46/100\n",
            "422/422 [==============================] - 6s 15ms/step - loss: 0.0571 - acc: 0.9823 - val_loss: 0.0562 - val_acc: 0.9848\n",
            "Epoch 47/100\n",
            "422/422 [==============================] - 6s 14ms/step - loss: 0.0598 - acc: 0.9815 - val_loss: 0.0553 - val_acc: 0.9838\n",
            "Epoch 48/100\n",
            "422/422 [==============================] - 6s 13ms/step - loss: 0.0596 - acc: 0.9821 - val_loss: 0.0474 - val_acc: 0.9860\n",
            "Epoch 49/100\n",
            "422/422 [==============================] - 7s 16ms/step - loss: 0.0583 - acc: 0.9823 - val_loss: 0.0506 - val_acc: 0.9858\n",
            "Epoch 50/100\n",
            "422/422 [==============================] - 6s 14ms/step - loss: 0.0566 - acc: 0.9827 - val_loss: 0.0533 - val_acc: 0.9837\n",
            "Epoch 51/100\n",
            "422/422 [==============================] - 6s 15ms/step - loss: 0.0557 - acc: 0.9830 - val_loss: 0.0465 - val_acc: 0.9880\n",
            "Epoch 52/100\n",
            "422/422 [==============================] - 6s 15ms/step - loss: 0.0579 - acc: 0.9823 - val_loss: 0.0483 - val_acc: 0.9857\n",
            "Epoch 53/100\n",
            "422/422 [==============================] - 6s 14ms/step - loss: 0.0535 - acc: 0.9838 - val_loss: 0.0497 - val_acc: 0.9857\n",
            "Epoch 54/100\n",
            "422/422 [==============================] - 7s 16ms/step - loss: 0.0546 - acc: 0.9831 - val_loss: 0.0484 - val_acc: 0.9855\n",
            "Epoch 55/100\n",
            "422/422 [==============================] - 6s 14ms/step - loss: 0.0538 - acc: 0.9832 - val_loss: 0.0509 - val_acc: 0.9853\n",
            "Epoch 56/100\n",
            "422/422 [==============================] - 6s 15ms/step - loss: 0.0530 - acc: 0.9840 - val_loss: 0.0468 - val_acc: 0.9862\n",
            "Epoch 57/100\n",
            "422/422 [==============================] - 6s 15ms/step - loss: 0.0560 - acc: 0.9831 - val_loss: 0.0480 - val_acc: 0.9867\n",
            "Epoch 58/100\n",
            "422/422 [==============================] - 6s 14ms/step - loss: 0.0529 - acc: 0.9835 - val_loss: 0.0506 - val_acc: 0.9855\n",
            "Epoch 59/100\n",
            "422/422 [==============================] - 7s 16ms/step - loss: 0.0524 - acc: 0.9838 - val_loss: 0.0496 - val_acc: 0.9860\n",
            "Epoch 60/100\n",
            "422/422 [==============================] - 6s 13ms/step - loss: 0.0496 - acc: 0.9849 - val_loss: 0.0572 - val_acc: 0.9835\n",
            "Epoch 61/100\n",
            "422/422 [==============================] - 6s 15ms/step - loss: 0.0472 - acc: 0.9856 - val_loss: 0.0540 - val_acc: 0.9853\n",
            "Epoch 62/100\n",
            "422/422 [==============================] - 6s 15ms/step - loss: 0.0498 - acc: 0.9845 - val_loss: 0.0537 - val_acc: 0.9855\n",
            "Epoch 63/100\n",
            "422/422 [==============================] - 6s 14ms/step - loss: 0.0495 - acc: 0.9844 - val_loss: 0.0475 - val_acc: 0.9855\n",
            "Epoch 64/100\n",
            "422/422 [==============================] - 7s 16ms/step - loss: 0.0486 - acc: 0.9854 - val_loss: 0.0485 - val_acc: 0.9845\n",
            "Epoch 65/100\n",
            "422/422 [==============================] - 6s 14ms/step - loss: 0.0505 - acc: 0.9848 - val_loss: 0.0554 - val_acc: 0.9837\n",
            "Epoch 66/100\n",
            "422/422 [==============================] - 7s 15ms/step - loss: 0.0508 - acc: 0.9846 - val_loss: 0.0535 - val_acc: 0.9845\n",
            "Epoch 67/100\n",
            "422/422 [==============================] - 6s 14ms/step - loss: 0.0466 - acc: 0.9858 - val_loss: 0.0493 - val_acc: 0.9865\n",
            "Epoch 68/100\n",
            "422/422 [==============================] - 6s 14ms/step - loss: 0.0481 - acc: 0.9855 - val_loss: 0.0468 - val_acc: 0.9868\n",
            "Epoch 69/100\n",
            "422/422 [==============================] - 7s 16ms/step - loss: 0.0478 - acc: 0.9852 - val_loss: 0.0531 - val_acc: 0.9853\n",
            "Epoch 70/100\n",
            "422/422 [==============================] - 6s 14ms/step - loss: 0.0473 - acc: 0.9853 - val_loss: 0.0501 - val_acc: 0.9857\n",
            "Epoch 71/100\n",
            "422/422 [==============================] - 8s 19ms/step - loss: 0.0469 - acc: 0.9855 - val_loss: 0.0494 - val_acc: 0.9857\n",
            "Epoch 72/100\n",
            "422/422 [==============================] - 6s 15ms/step - loss: 0.0467 - acc: 0.9855 - val_loss: 0.0485 - val_acc: 0.9870\n",
            "Epoch 73/100\n",
            "422/422 [==============================] - 6s 13ms/step - loss: 0.0466 - acc: 0.9860 - val_loss: 0.0506 - val_acc: 0.9853\n",
            "Epoch 74/100\n",
            "422/422 [==============================] - 7s 16ms/step - loss: 0.0478 - acc: 0.9858 - val_loss: 0.0496 - val_acc: 0.9865\n",
            "Epoch 75/100\n",
            "422/422 [==============================] - 6s 14ms/step - loss: 0.0454 - acc: 0.9860 - val_loss: 0.0481 - val_acc: 0.9868\n",
            "Epoch 76/100\n",
            "422/422 [==============================] - 7s 16ms/step - loss: 0.0483 - acc: 0.9854 - val_loss: 0.0509 - val_acc: 0.9863\n",
            "Epoch 77/100\n",
            "422/422 [==============================] - 6s 14ms/step - loss: 0.0431 - acc: 0.9866 - val_loss: 0.0457 - val_acc: 0.9867\n",
            "Epoch 78/100\n",
            "422/422 [==============================] - 6s 14ms/step - loss: 0.0446 - acc: 0.9858 - val_loss: 0.0491 - val_acc: 0.9865\n",
            "Epoch 79/100\n",
            "422/422 [==============================] - 6s 15ms/step - loss: 0.0483 - acc: 0.9854 - val_loss: 0.0474 - val_acc: 0.9862\n",
            "Epoch 80/100\n",
            "422/422 [==============================] - 6s 14ms/step - loss: 0.0445 - acc: 0.9857 - val_loss: 0.0481 - val_acc: 0.9865\n",
            "Epoch 81/100\n",
            "422/422 [==============================] - 7s 16ms/step - loss: 0.0431 - acc: 0.9869 - val_loss: 0.0468 - val_acc: 0.9870\n",
            "Epoch 82/100\n",
            "422/422 [==============================] - 6s 14ms/step - loss: 0.0457 - acc: 0.9865 - val_loss: 0.0480 - val_acc: 0.9865\n",
            "Epoch 83/100\n",
            "422/422 [==============================] - 6s 15ms/step - loss: 0.0436 - acc: 0.9866 - val_loss: 0.0481 - val_acc: 0.9860\n",
            "Epoch 84/100\n",
            "422/422 [==============================] - 6s 15ms/step - loss: 0.0448 - acc: 0.9866 - val_loss: 0.0515 - val_acc: 0.9867\n",
            "Epoch 85/100\n",
            "422/422 [==============================] - 6s 14ms/step - loss: 0.0410 - acc: 0.9872 - val_loss: 0.0517 - val_acc: 0.9860\n",
            "Epoch 86/100\n",
            "422/422 [==============================] - 7s 15ms/step - loss: 0.0431 - acc: 0.9868 - val_loss: 0.0509 - val_acc: 0.9862\n",
            "Epoch 87/100\n",
            "422/422 [==============================] - 6s 14ms/step - loss: 0.0422 - acc: 0.9874 - val_loss: 0.0467 - val_acc: 0.9860\n",
            "Epoch 88/100\n",
            "422/422 [==============================] - 6s 15ms/step - loss: 0.0403 - acc: 0.9873 - val_loss: 0.0510 - val_acc: 0.9868\n",
            "Epoch 89/100\n",
            "422/422 [==============================] - 6s 14ms/step - loss: 0.0410 - acc: 0.9873 - val_loss: 0.0482 - val_acc: 0.9865\n",
            "Epoch 90/100\n",
            "422/422 [==============================] - 6s 14ms/step - loss: 0.0414 - acc: 0.9875 - val_loss: 0.0476 - val_acc: 0.9865\n",
            "Epoch 91/100\n",
            "422/422 [==============================] - 7s 17ms/step - loss: 0.0393 - acc: 0.9875 - val_loss: 0.0484 - val_acc: 0.9867\n",
            "Epoch 92/100\n",
            "422/422 [==============================] - 6s 14ms/step - loss: 0.0420 - acc: 0.9871 - val_loss: 0.0463 - val_acc: 0.9872\n",
            "Epoch 93/100\n",
            "422/422 [==============================] - 6s 15ms/step - loss: 0.0403 - acc: 0.9873 - val_loss: 0.0483 - val_acc: 0.9870\n",
            "Epoch 94/100\n",
            "422/422 [==============================] - 6s 15ms/step - loss: 0.0371 - acc: 0.9882 - val_loss: 0.0513 - val_acc: 0.9870\n",
            "Epoch 95/100\n",
            "422/422 [==============================] - 6s 14ms/step - loss: 0.0425 - acc: 0.9869 - val_loss: 0.0435 - val_acc: 0.9877\n",
            "Epoch 96/100\n",
            "422/422 [==============================] - 6s 15ms/step - loss: 0.0387 - acc: 0.9873 - val_loss: 0.0463 - val_acc: 0.9862\n",
            "Epoch 97/100\n",
            "422/422 [==============================] - 6s 14ms/step - loss: 0.0407 - acc: 0.9874 - val_loss: 0.0447 - val_acc: 0.9883\n",
            "Epoch 98/100\n",
            "422/422 [==============================] - 6s 15ms/step - loss: 0.0387 - acc: 0.9874 - val_loss: 0.0495 - val_acc: 0.9858\n",
            "Epoch 99/100\n",
            "422/422 [==============================] - 6s 15ms/step - loss: 0.0396 - acc: 0.9875 - val_loss: 0.0505 - val_acc: 0.9875\n",
            "Epoch 100/100\n",
            "422/422 [==============================] - 7s 16ms/step - loss: 0.0376 - acc: 0.9883 - val_loss: 0.0501 - val_acc: 0.9868\n"
          ]
        }
      ]
    },
    {
      "cell_type": "markdown",
      "source": [
        "###Model Evaluation"
      ],
      "metadata": {
        "id": "10n3kc5wIUN5"
      }
    },
    {
      "cell_type": "code",
      "source": [
        "#Plot the history\n",
        "import matplotlib.pyplot as plt\n",
        "def plot_accuracy_and_loss(train_model):\n",
        "    hist = train_model.history\n",
        "    acc = hist['acc']\n",
        "    val_acc = hist['val_acc']\n",
        "    loss = hist['loss']\n",
        "    val_loss = hist['val_loss']\n",
        "    epochs = range(len(acc))\n",
        "    f, ax = plt.subplots(1,2, figsize=(14,6))\n",
        "    ax[0].plot(epochs, acc, 'g', label='Training accuracy')\n",
        "    ax[0].plot(epochs, val_acc, 'r', label='Validation accuracy')\n",
        "    ax[0].set_title('Training and validation accuracy')\n",
        "    ax[0].legend()\n",
        "    ax[1].plot(epochs, loss, 'g', label='Training loss')\n",
        "    ax[1].plot(epochs, val_loss, 'r', label='Validation loss')\n",
        "    ax[1].set_title('Training and validation loss')\n",
        "    ax[1].legend()\n",
        "    plt.show()\n",
        "plot_accuracy_and_loss(history)"
      ],
      "metadata": {
        "colab": {
          "base_uri": "https://localhost:8080/",
          "height": 348
        },
        "id": "Yfi2c1zCC_xL",
        "outputId": "eb7f9e30-2971-4ac8-e6c1-100473c8b91f"
      },
      "execution_count": null,
      "outputs": [
        {
          "output_type": "display_data",
          "data": {
            "text/plain": [
              "<Figure size 1400x600 with 2 Axes>"
            ],
            "image/png": "[encoded data removed]"
          },
          "metadata": {}
        }
      ]
    },
    {
      "cell_type": "code",
      "source": [
        "results = model.evaluate(x_test, y_test, batch_size=128)\n",
        "print(\"test loss, test acc:\", results)"
      ],
      "metadata": {
        "colab": {
          "base_uri": "https://localhost:8080/"
        },
        "id": "C3-0M3cpIhtJ",
        "outputId": "57e28536-000a-4ae8-d2a8-518b77525858"
      },
      "execution_count": null,
      "outputs": [
        {
          "output_type": "stream",
          "name": "stdout",
          "text": [
            "79/79 [==============================] - 2s 24ms/step - loss: 0.2084 - acc: 0.9569\n",
            "test loss, test acc: [0.20835722982883453, 0.9569000005722046]\n"
          ]
        }
      ]
    },
    {
      "cell_type": "code",
      "source": [
        "model.save(\"/content/drive/MyDrive/Final Project_SML/10_classes_hiragna_data/10_hiragana_model.h5\")"
      ],
      "metadata": {
        "colab": {
          "base_uri": "https://localhost:8080/"
        },
        "id": "t4ZKvZh_KxOC",
        "outputId": "d549f6db-1d5f-40b9-8ecd-915efb4d1aa5"
      },
      "execution_count": null,
      "outputs": [
        {
          "output_type": "stream",
          "name": "stderr",
          "text": [
            "/usr/local/lib/python3.10/dist-packages/keras/src/engine/training.py:3103: UserWarning: You are saving your model as an HDF5 file via `model.save()`. This file format is considered legacy. We recommend using instead the native Keras format, e.g. `model.save('my_model.keras')`.\n",
            "  saving_api.save_model(\n"
          ]
        }
      ]
    },
    {
      "cell_type": "code",
      "source": [
        "hiragana_a = '\\u3042'\n",
        "hiragana_ka = '\\u304B'\n",
        "hiragana_ki = '\\u304D'\n",
        "\n",
        "# Printing the characters\n",
        "print(hiragana_a)\n",
        "print(hiragana_ka)\n",
        "print(hiragana_ki)"
      ],
      "metadata": {
        "colab": {
          "base_uri": "https://localhost:8080/"
        },
        "id": "znSYM7bZLCO7",
        "outputId": "f2f88a2c-3b16-4149-9afc-0b74c0d70b80"
      },
      "execution_count": null,
      "outputs": [
        {
          "output_type": "stream",
          "name": "stdout",
          "text": [
            "あ\n",
            "か\n",
            "き\n"
          ]
        }
      ]
    },
    {
      "cell_type": "code",
      "source": [
        "model = create_model()\n",
        "model.load('/content/drive/MyDrive/Final Project_SML/10_classes_hiragna_data/10_hiragana_model.h5')"
      ],
      "metadata": {
        "id": "SKZL5r70PLkw",
        "colab": {
          "base_uri": "https://localhost:8080/",
          "height": 196
        },
        "outputId": "b72dc82e-49f7-4603-f562-ea0dcbc98189"
      },
      "execution_count": 2,
      "outputs": [
        {
          "output_type": "error",
          "ename": "NameError",
          "evalue": "name 'create_model' is not defined",
          "traceback": [
            "\u001b[0;31m---------------------------------------------------------------------------\u001b[0m",
            "\u001b[0;31mNameError\u001b[0m                                 Traceback (most recent call last)",
            "\u001b[0;32m<ipython-input-2-a94b98aa78cf>\u001b[0m in \u001b[0;36m<cell line: 1>\u001b[0;34m()\u001b[0m\n\u001b[0;32m----> 1\u001b[0;31m \u001b[0mmodel\u001b[0m \u001b[0;34m=\u001b[0m \u001b[0mcreate_model\u001b[0m\u001b[0;34m(\u001b[0m\u001b[0;34m)\u001b[0m\u001b[0;34m\u001b[0m\u001b[0;34m\u001b[0m\u001b[0m\n\u001b[0m\u001b[1;32m      2\u001b[0m \u001b[0mmodel\u001b[0m\u001b[0;34m.\u001b[0m\u001b[0mload\u001b[0m\u001b[0;34m(\u001b[0m\u001b[0;34m'/content/drive/MyDrive/Final Project_SML/10_classes_hiragna_data/10_hiragana_model.h5'\u001b[0m\u001b[0;34m)\u001b[0m\u001b[0;34m\u001b[0m\u001b[0;34m\u001b[0m\u001b[0m\n",
            "\u001b[0;31mNameError\u001b[0m: name 'create_model' is not defined"
          ]
        }
      ]
    },
    {
      "cell_type": "code",
      "source": [
        "import tensorflow as tf"
      ],
      "metadata": {
        "id": "Jw7eh2Nqv4S2"
      },
      "execution_count": 4,
      "outputs": []
    },
    {
      "cell_type": "code",
      "source": [
        "import numpy as np\n",
        "from google.colab import drive\n",
        "import os\n",
        "\n",
        "# Mount Google Drive\n",
        "drive.mount('/content/drive')"
      ],
      "metadata": {
        "colab": {
          "base_uri": "https://localhost:8080/"
        },
        "id": "11zddgy_wDDq",
        "outputId": "fc7e5194-59ff-49d3-d4d2-1fc99f054150"
      },
      "execution_count": 6,
      "outputs": [
        {
          "output_type": "stream",
          "name": "stdout",
          "text": [
            "Mounted at /content/drive\n"
          ]
        }
      ]
    },
    {
      "cell_type": "code",
      "source": [
        "new_model = tf.keras.models.load_model('/content/drive/MyDrive/Final Project_SML/10_classes_hiragna_data/10_hiragana_model.h5')"
      ],
      "metadata": {
        "id": "-LmYoRmMvdbO"
      },
      "execution_count": 7,
      "outputs": []
    },
    {
      "cell_type": "code",
      "source": [
        "new_model.evaluate(x_test, y_test)"
      ],
      "metadata": {
        "colab": {
          "base_uri": "https://localhost:8080/"
        },
        "id": "wVEOIn-sv3OC",
        "outputId": "93141dbd-6567-447e-a787-de3768399216"
      },
      "execution_count": 10,
      "outputs": [
        {
          "output_type": "stream",
          "name": "stderr",
          "text": [
            "/usr/local/lib/python3.10/dist-packages/keras/src/backend.py:5727: UserWarning: \"`sparse_categorical_crossentropy` received `from_logits=True`, but the `output` argument was produced by a Softmax activation and thus does not represent logits. Was this intended?\n",
            "  output, from_logits = _get_logits(\n"
          ]
        },
        {
          "output_type": "stream",
          "name": "stdout",
          "text": [
            "313/313 [==============================] - 3s 4ms/step - loss: 0.2084 - acc: 0.9569\n"
          ]
        },
        {
          "output_type": "execute_result",
          "data": {
            "text/plain": [
              "[0.20835720002651215, 0.9569000005722046]"
            ]
          },
          "metadata": {},
          "execution_count": 10
        }
      ]
    },
    {
      "cell_type": "code",
      "source": [
        "from matplotlib import pyplot as plt\n",
        "plt.imshow(x_test[73].reshape(28,28,1), cmap='gray')\n",
        "plt.show()"
      ],
      "metadata": {
        "colab": {
          "base_uri": "https://localhost:8080/",
          "height": 430
        },
        "id": "OW7oCjWmwTSq",
        "outputId": "a114ab45-11e7-4594-e7d0-00831bcf37b8"
      },
      "execution_count": 42,
      "outputs": [
        {
          "output_type": "display_data",
          "data": {
            "text/plain": [
              "<Figure size 640x480 with 1 Axes>"
            ],
            "image/png": "[encoded data removed]"
          },
          "metadata": {}
        }
      ]
    },
    {
      "cell_type": "code",
      "source": [
        "pred = new_model.predict(np.expand_dims(x_test[9998], axis = 0))"
      ],
      "metadata": {
        "colab": {
          "base_uri": "https://localhost:8080/"
        },
        "id": "3Y20rEMOwlwU",
        "outputId": "f7ec8744-742a-4b6f-cc75-86d3a536f47a"
      },
      "execution_count": 30,
      "outputs": [
        {
          "output_type": "stream",
          "name": "stdout",
          "text": [
            "1/1 [==============================] - 0s 32ms/step\n"
          ]
        }
      ]
    },
    {
      "cell_type": "code",
      "source": [
        "y = np.argmax(pred)\n",
        "y"
      ],
      "metadata": {
        "colab": {
          "base_uri": "https://localhost:8080/"
        },
        "id": "qYPdSPFOwrwV",
        "outputId": "b83bc4d7-d771-46e1-b090-1b094a30e948"
      },
      "execution_count": 31,
      "outputs": [
        {
          "output_type": "execute_result",
          "data": {
            "text/plain": [
              "4"
            ]
          },
          "metadata": {},
          "execution_count": 31
        }
      ]
    },
    {
      "cell_type": "code",
      "source": [
        "y_test[9998]"
      ],
      "metadata": {
        "colab": {
          "base_uri": "https://localhost:8080/"
        },
        "id": "5kRcbljGxEDb",
        "outputId": "e6d07eb3-cee9-455d-ee78-996bf96d3cf0"
      },
      "execution_count": 33,
      "outputs": [
        {
          "output_type": "execute_result",
          "data": {
            "text/plain": [
              "4"
            ]
          },
          "metadata": {},
          "execution_count": 33
        }
      ]
    },
    {
      "cell_type": "code",
      "source": [
        "indices = np.where(y_test==1)"
      ],
      "metadata": {
        "id": "MemtBdz0xX2e"
      },
      "execution_count": 37,
      "outputs": []
    },
    {
      "cell_type": "code",
      "source": [
        "indices"
      ],
      "metadata": {
        "colab": {
          "base_uri": "https://localhost:8080/"
        },
        "id": "1WQ5QI29xwxa",
        "outputId": "30816a97-4bee-49a4-97de-7e7c87d556e5"
      },
      "execution_count": 35,
      "outputs": [
        {
          "output_type": "execute_result",
          "data": {
            "text/plain": [
              "(array([  20,   22,   24,   41,   73,   77,   91,   94,  127,  148,  158,\n",
              "         163,  179,  185,  193,  212,  214,  219,  222,  227,  248,  261,\n",
              "         265,  275,  284,  285,  291,  293,  303,  311,  313,  325,  339,\n",
              "         354,  358,  371,  380,  394,  395,  396,  397,  427,  442,  451,\n",
              "         452,  470,  518,  527,  538,  541,  547,  554,  563,  572,  577,\n",
              "         584,  588,  595,  600,  627,  639,  642,  654,  659,  682,  683,\n",
              "         686,  696,  708,  713,  740,  747,  755,  767,  770,  787,  795,\n",
              "         797,  801,  825,  837,  846,  847,  858,  883,  884,  904,  910,\n",
              "         922,  944,  946,  961,  963,  976,  983,  988,  990,  995, 1007,\n",
              "        1008, 1010, 1016, 1017, 1049, 1061, 1081, 1089, 1094, 1118, 1119,\n",
              "        1131, 1132, 1138, 1140, 1146, 1151, 1156, 1161, 1166, 1169, 1174,\n",
              "        1193, 1203, 1216, 1246, 1252, 1256, 1259, 1275, 1283, 1289, 1297,\n",
              "        1308, 1317, 1338, 1352, 1371, 1390, 1396, 1404, 1405, 1408, 1417,\n",
              "        1423, 1431, 1442, 1451, 1456, 1483, 1485, 1499, 1501, 1503, 1513,\n",
              "        1530, 1549, 1556, 1576, 1586, 1587, 1596, 1597, 1598, 1605, 1607,\n",
              "        1618, 1624, 1647, 1650, 1670, 1677, 1680, 1684, 1685, 1689, 1703,\n",
              "        1721, 1732, 1745, 1748, 1754, 1765, 1771, 1777, 1788, 1814, 1819,\n",
              "        1833, 1837, 1846, 1848, 1860, 1879, 1899, 1910, 1921, 1925, 1934,\n",
              "        1941, 1948, 1953, 1955, 1956, 1961, 1987, 1997, 2038, 2057, 2071,\n",
              "        2084, 2087, 2096, 2104, 2131, 2152, 2153, 2163, 2164, 2189, 2190,\n",
              "        2198, 2217, 2225, 2230, 2236, 2237, 2264, 2266, 2271, 2289, 2296,\n",
              "        2297, 2316, 2325, 2371, 2396, 2410, 2415, 2417, 2435, 2446, 2459,\n",
              "        2460, 2467, 2469, 2485, 2492, 2497, 2510, 2525, 2528, 2531, 2540,\n",
              "        2564, 2594, 2597, 2607, 2612, 2617, 2638, 2643, 2645, 2646, 2647,\n",
              "        2650, 2672, 2685, 2686, 2690, 2692, 2704, 2707, 2713, 2717, 2719,\n",
              "        2727, 2766, 2772, 2777, 2787, 2789, 2795, 2817, 2818, 2819, 2830,\n",
              "        2850, 2875, 2880, 2887, 2893, 2912, 2916, 2923, 2929, 2930, 2952,\n",
              "        2953, 2964, 2968, 2971, 2983, 2985, 2990, 2998, 3000, 3021, 3022,\n",
              "        3055, 3059, 3065, 3068, 3075, 3091, 3095, 3099, 3120, 3132, 3146,\n",
              "        3147, 3151, 3167, 3171, 3183, 3191, 3209, 3215, 3221, 3225, 3227,\n",
              "        3241, 3242, 3249, 3258, 3259, 3288, 3306, 3316, 3378, 3398, 3399,\n",
              "        3404, 3412, 3427, 3432, 3442, 3453, 3464, 3484, 3488, 3489, 3497,\n",
              "        3506, 3523, 3552, 3553, 3557, 3560, 3561, 3565, 3573, 3575, 3606,\n",
              "        3611, 3613, 3614, 3649, 3653, 3655, 3667, 3676, 3678, 3679, 3683,\n",
              "        3688, 3695, 3700, 3703, 3710, 3736, 3755, 3771, 3790, 3798, 3800,\n",
              "        3812, 3818, 3835, 3854, 3871, 3898, 3911, 3948, 3977, 3986, 3999,\n",
              "        4002, 4020, 4027, 4028, 4035, 4056, 4067, 4070, 4074, 4084, 4099,\n",
              "        4105, 4123, 4128, 4142, 4147, 4170, 4175, 4180, 4190, 4202, 4203,\n",
              "        4239, 4260, 4262, 4263, 4282, 4298, 4299, 4339, 4358, 4365, 4374,\n",
              "        4377, 4378, 4410, 4411, 4416, 4431, 4435, 4442, 4454, 4464, 4470,\n",
              "        4472, 4490, 4510, 4518, 4532, 4553, 4561, 4571, 4603, 4611, 4616,\n",
              "        4625, 4629, 4632, 4639, 4675, 4695, 4707, 4733, 4740, 4760, 4769,\n",
              "        4772, 4778, 4793, 4802, 4811, 4814, 4816, 4823, 4834, 4840, 4863,\n",
              "        4874, 4892, 4903, 4914, 4930, 4947, 4957, 4964, 4969, 4973, 4976,\n",
              "        4978, 4982, 4984, 4985, 4986, 4991, 4998, 5010, 5016, 5018, 5025,\n",
              "        5026, 5050, 5051, 5090, 5092, 5117, 5124, 5131, 5138, 5140, 5161,\n",
              "        5164, 5176, 5178, 5181, 5215, 5229, 5253, 5282, 5296, 5297, 5305,\n",
              "        5326, 5329, 5336, 5341, 5363, 5375, 5377, 5399, 5407, 5414, 5416,\n",
              "        5420, 5429, 5432, 5442, 5446, 5448, 5458, 5463, 5473, 5480, 5497,\n",
              "        5498, 5499, 5507, 5530, 5531, 5534, 5538, 5557, 5559, 5561, 5563,\n",
              "        5583, 5590, 5602, 5610, 5621, 5627, 5632, 5636, 5640, 5649, 5655,\n",
              "        5659, 5677, 5684, 5689, 5692, 5694, 5696, 5719, 5723, 5740, 5744,\n",
              "        5753, 5831, 5832, 5839, 5859, 5866, 5900, 5904, 5913, 5916, 5922,\n",
              "        5931, 5950, 5956, 5959, 5961, 5963, 5967, 5980, 5984, 5989, 6013,\n",
              "        6023, 6026, 6033, 6046, 6060, 6061, 6063, 6068, 6076, 6092, 6093,\n",
              "        6098, 6099, 6100, 6110, 6120, 6130, 6139, 6156, 6158, 6166, 6177,\n",
              "        6185, 6191, 6209, 6232, 6233, 6236, 6245, 6253, 6265, 6266, 6281,\n",
              "        6298, 6312, 6329, 6330, 6331, 6350, 6365, 6371, 6379, 6404, 6407,\n",
              "        6422, 6427, 6445, 6464, 6477, 6496, 6514, 6522, 6524, 6527, 6542,\n",
              "        6560, 6567, 6578, 6579, 6583, 6595, 6607, 6609, 6613, 6617, 6623,\n",
              "        6625, 6641, 6657, 6662, 6669, 6672, 6673, 6686, 6693, 6721, 6724,\n",
              "        6726, 6730, 6742, 6746, 6755, 6761, 6788, 6794, 6808, 6810, 6830,\n",
              "        6848, 6851, 6856, 6858, 6938, 6949, 6954, 6958, 6969, 6979, 6985,\n",
              "        7014, 7019, 7030, 7033, 7034, 7041, 7046, 7054, 7078, 7079, 7082,\n",
              "        7109, 7120, 7122, 7148, 7162, 7165, 7179, 7192, 7196, 7207, 7209,\n",
              "        7214, 7221, 7223, 7235, 7256, 7257, 7264, 7268, 7304, 7307, 7308,\n",
              "        7314, 7326, 7329, 7363, 7377, 7379, 7403, 7406, 7417, 7419, 7423,\n",
              "        7426, 7429, 7440, 7441, 7461, 7472, 7475, 7495, 7547, 7558, 7570,\n",
              "        7580, 7581, 7586, 7594, 7599, 7601, 7603, 7609, 7611, 7618, 7629,\n",
              "        7632, 7649, 7660, 7663, 7673, 7674, 7677, 7683, 7686, 7688, 7698,\n",
              "        7717, 7771, 7772, 7776, 7781, 7797, 7798, 7800, 7814, 7832, 7857,\n",
              "        7866, 7872, 7875, 7879, 7884, 7891, 7905, 7911, 7929, 7933, 7938,\n",
              "        7946, 7947, 7948, 7949, 7963, 7967, 7970, 7972, 7989, 7995, 7996,\n",
              "        8014, 8024, 8038, 8041, 8047, 8049, 8050, 8057, 8071, 8093, 8101,\n",
              "        8104, 8117, 8132, 8138, 8146, 8152, 8154, 8175, 8176, 8204, 8215,\n",
              "        8231, 8236, 8237, 8240, 8264, 8272, 8277, 8295, 8309, 8312, 8319,\n",
              "        8323, 8330, 8354, 8357, 8363, 8380, 8420, 8423, 8424, 8441, 8442,\n",
              "        8460, 8464, 8473, 8489, 8498, 8499, 8503, 8504, 8508, 8510, 8514,\n",
              "        8518, 8526, 8532, 8535, 8596, 8602, 8612, 8631, 8638, 8651, 8654,\n",
              "        8655, 8671, 8674, 8688, 8692, 8708, 8711, 8714, 8715, 8734, 8751,\n",
              "        8773, 8788, 8797, 8799, 8813, 8819, 8820, 8826, 8846, 8874, 8886,\n",
              "        8903, 8911, 8916, 8923, 8929, 8931, 8944, 8954, 8963, 8968, 8976,\n",
              "        8987, 8992, 8996, 9001, 9003, 9006, 9009, 9018, 9019, 9022, 9023,\n",
              "        9031, 9034, 9054, 9065, 9080, 9082, 9101, 9113, 9148, 9162, 9163,\n",
              "        9194, 9200, 9205, 9206, 9219, 9221, 9224, 9232, 9251, 9269, 9275,\n",
              "        9277, 9280, 9285, 9312, 9332, 9335, 9364, 9380, 9385, 9386, 9394,\n",
              "        9395, 9401, 9406, 9408, 9434, 9443, 9446, 9468, 9474, 9480, 9485,\n",
              "        9496, 9505, 9510, 9550, 9566, 9588, 9598, 9605, 9610, 9666, 9667,\n",
              "        9685, 9701, 9705, 9707, 9724, 9767, 9774, 9798, 9811, 9812, 9826,\n",
              "        9846, 9860, 9862, 9878, 9882, 9905, 9907, 9918, 9921, 9928, 9934,\n",
              "        9935, 9939, 9941, 9963, 9967, 9970, 9971, 9975, 9987, 9992]),)"
            ]
          },
          "metadata": {},
          "execution_count": 35
        }
      ]
    },
    {
      "cell_type": "code",
      "source": [],
      "metadata": {
        "id": "_C0bR5V6x0Sj"
      },
      "execution_count": null,
      "outputs": []
    }
  ]
}